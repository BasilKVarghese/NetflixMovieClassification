{
  "cells": [
    {
      "cell_type": "markdown",
      "source": [
        "## **Netflix Movie Classification**\n",
        "In this notebook, we try to fit an **LSTM** model that would approximate the clustering model fitted previously to classify each show to a cluster based on the show description. The following steps have been performed.\n",
        "\n",
        "1.   Importing Libraries\n",
        "2.   Loading/cleaning/subsetting the dataset\n",
        "3.   Preprocessing text data\n",
        "4.   Balancing the dataset\n",
        "4.   Preparing dataset for modelling(word embedding, train/test split)\n",
        "5.   Creating the LSTM model\n",
        "6.   Training LSTM model\n",
        "7.   Validating results\n",
        "8.   Performing Hyperparameter tuning of the LSTM model\n",
        "9.   Validating results\n"
      ],
      "metadata": {
        "id": "J5P8EVeusi2D"
      }
    },
    {
      "cell_type": "markdown",
      "source": [
        "### Importing Libraries"
      ],
      "metadata": {
        "id": "vsCLr2gutkTC"
      }
    },
    {
      "cell_type": "code",
      "execution_count": 1,
      "metadata": {
        "colab": {
          "base_uri": "https://localhost:8080/"
        },
        "id": "v0zYJSni8SQ8",
        "outputId": "aa5354eb-31d4-4feb-f3a3-c2bef40fef96"
      },
      "outputs": [
        {
          "output_type": "stream",
          "name": "stdout",
          "text": [
            "[nltk_data] Downloading package stopwords to /root/nltk_data...\n",
            "[nltk_data]   Package stopwords is already up-to-date!\n",
            "[nltk_data] Downloading package wordnet to /root/nltk_data...\n",
            "[nltk_data]   Package wordnet is already up-to-date!\n"
          ]
        }
      ],
      "source": [
        "import numpy as np\n",
        "import pandas as pd\n",
        "from plotly.offline import iplot\n",
        "import matplotlib.pyplot as plt\n",
        "import seaborn as sns\n",
        "from nltk.stem import WordNetLemmatizer\n",
        "lemmatizer = WordNetLemmatizer()\n",
        "import tensorflow as tf\n",
        "from tensorflow.keras.preprocessing.text import Tokenizer\n",
        "from tensorflow.keras.preprocessing.sequence import pad_sequences\n",
        "from tensorflow.keras.models import Sequential\n",
        "from tensorflow.keras.layers import Dense, Embedding, LSTM, SpatialDropout1D, Flatten, Dropout\n",
        "from sklearn.model_selection import train_test_split\n",
        "from keras.utils.np_utils import to_categorical\n",
        "from tensorflow.keras.callbacks import EarlyStopping\n",
        "import re\n",
        "import nltk\n",
        "nltk.download('stopwords')\n",
        "nltk.download('wordnet')\n",
        "from nltk.corpus import stopwords\n",
        "from nltk import word_tokenize\n",
        "STOPWORDS = set(stopwords.words('english'))\n",
        "from keras_tuner.tuners import RandomSearch\n",
        "import keras_tuner"
      ]
    },
    {
      "cell_type": "markdown",
      "source": [
        "### Loading the dataset"
      ],
      "metadata": {
        "id": "NDjPMPRstobo"
      }
    },
    {
      "cell_type": "code",
      "execution_count": 2,
      "metadata": {
        "colab": {
          "base_uri": "https://localhost:8080/",
          "height": 546
        },
        "id": "8UQd1s1H8pdb",
        "outputId": "70facdf8-1580-4966-f069-e4814118fa75"
      },
      "outputs": [
        {
          "output_type": "stream",
          "name": "stdout",
          "text": [
            "(8807, 14)\n"
          ]
        },
        {
          "output_type": "execute_result",
          "data": {
            "text/plain": [
              "      Unnamed: 0 show_id     type        title         director  \\\n",
              "8802        8802   s8803    Movie       Zodiac    David Fincher   \n",
              "8803        8803   s8804  TV Show  Zombie Dumb              NaN   \n",
              "8804        8804   s8805    Movie   Zombieland  Ruben Fleischer   \n",
              "8805        8805   s8806    Movie         Zoom     Peter Hewitt   \n",
              "8806        8806   s8807    Movie       Zubaan      Mozez Singh   \n",
              "\n",
              "                                                   cast        country  \\\n",
              "8802  Mark Ruffalo, Jake Gyllenhaal, Robert Downey J...  United States   \n",
              "8803                                                NaN            NaN   \n",
              "8804  Jesse Eisenberg, Woody Harrelson, Emma Stone, ...  United States   \n",
              "8805  Tim Allen, Courteney Cox, Chevy Chase, Kate Ma...  United States   \n",
              "8806  Vicky Kaushal, Sarah-Jane Dias, Raaghav Chanan...          India   \n",
              "\n",
              "             date_added  release_year rating   duration  \\\n",
              "8802  November 20, 2019          2007      R    158 min   \n",
              "8803       July 1, 2019          2018  TV-Y7  2 Seasons   \n",
              "8804   November 1, 2019          2009      R     88 min   \n",
              "8805   January 11, 2020          2006     PG     88 min   \n",
              "8806      March 2, 2019          2015  TV-14    111 min   \n",
              "\n",
              "                                           listed_in  \\\n",
              "8802                  Cult Movies, Dramas, Thrillers   \n",
              "8803          Kids' TV, Korean TV Shows, TV Comedies   \n",
              "8804                         Comedies, Horror Movies   \n",
              "8805              Children & Family Movies, Comedies   \n",
              "8806  Dramas, International Movies, Music & Musicals   \n",
              "\n",
              "                                            description  cluster  \n",
              "8802  A political cartoonist, a crime reporter and a...        2  \n",
              "8803  While living alone in a spooky town, a young g...        1  \n",
              "8804  Looking to survive in a world taken over by zo...        1  \n",
              "8805  Dragged from civilian life, a former superhero...        5  \n",
              "8806  A scrappy but poor boy worms his way into a ty...        0  "
            ],
            "text/html": [
              "\n",
              "  <div id=\"df-78b79ac1-c3e7-4d29-b5fd-e084057bb361\">\n",
              "    <div class=\"colab-df-container\">\n",
              "      <div>\n",
              "<style scoped>\n",
              "    .dataframe tbody tr th:only-of-type {\n",
              "        vertical-align: middle;\n",
              "    }\n",
              "\n",
              "    .dataframe tbody tr th {\n",
              "        vertical-align: top;\n",
              "    }\n",
              "\n",
              "    .dataframe thead th {\n",
              "        text-align: right;\n",
              "    }\n",
              "</style>\n",
              "<table border=\"1\" class=\"dataframe\">\n",
              "  <thead>\n",
              "    <tr style=\"text-align: right;\">\n",
              "      <th></th>\n",
              "      <th>Unnamed: 0</th>\n",
              "      <th>show_id</th>\n",
              "      <th>type</th>\n",
              "      <th>title</th>\n",
              "      <th>director</th>\n",
              "      <th>cast</th>\n",
              "      <th>country</th>\n",
              "      <th>date_added</th>\n",
              "      <th>release_year</th>\n",
              "      <th>rating</th>\n",
              "      <th>duration</th>\n",
              "      <th>listed_in</th>\n",
              "      <th>description</th>\n",
              "      <th>cluster</th>\n",
              "    </tr>\n",
              "  </thead>\n",
              "  <tbody>\n",
              "    <tr>\n",
              "      <th>8802</th>\n",
              "      <td>8802</td>\n",
              "      <td>s8803</td>\n",
              "      <td>Movie</td>\n",
              "      <td>Zodiac</td>\n",
              "      <td>David Fincher</td>\n",
              "      <td>Mark Ruffalo, Jake Gyllenhaal, Robert Downey J...</td>\n",
              "      <td>United States</td>\n",
              "      <td>November 20, 2019</td>\n",
              "      <td>2007</td>\n",
              "      <td>R</td>\n",
              "      <td>158 min</td>\n",
              "      <td>Cult Movies, Dramas, Thrillers</td>\n",
              "      <td>A political cartoonist, a crime reporter and a...</td>\n",
              "      <td>2</td>\n",
              "    </tr>\n",
              "    <tr>\n",
              "      <th>8803</th>\n",
              "      <td>8803</td>\n",
              "      <td>s8804</td>\n",
              "      <td>TV Show</td>\n",
              "      <td>Zombie Dumb</td>\n",
              "      <td>NaN</td>\n",
              "      <td>NaN</td>\n",
              "      <td>NaN</td>\n",
              "      <td>July 1, 2019</td>\n",
              "      <td>2018</td>\n",
              "      <td>TV-Y7</td>\n",
              "      <td>2 Seasons</td>\n",
              "      <td>Kids' TV, Korean TV Shows, TV Comedies</td>\n",
              "      <td>While living alone in a spooky town, a young g...</td>\n",
              "      <td>1</td>\n",
              "    </tr>\n",
              "    <tr>\n",
              "      <th>8804</th>\n",
              "      <td>8804</td>\n",
              "      <td>s8805</td>\n",
              "      <td>Movie</td>\n",
              "      <td>Zombieland</td>\n",
              "      <td>Ruben Fleischer</td>\n",
              "      <td>Jesse Eisenberg, Woody Harrelson, Emma Stone, ...</td>\n",
              "      <td>United States</td>\n",
              "      <td>November 1, 2019</td>\n",
              "      <td>2009</td>\n",
              "      <td>R</td>\n",
              "      <td>88 min</td>\n",
              "      <td>Comedies, Horror Movies</td>\n",
              "      <td>Looking to survive in a world taken over by zo...</td>\n",
              "      <td>1</td>\n",
              "    </tr>\n",
              "    <tr>\n",
              "      <th>8805</th>\n",
              "      <td>8805</td>\n",
              "      <td>s8806</td>\n",
              "      <td>Movie</td>\n",
              "      <td>Zoom</td>\n",
              "      <td>Peter Hewitt</td>\n",
              "      <td>Tim Allen, Courteney Cox, Chevy Chase, Kate Ma...</td>\n",
              "      <td>United States</td>\n",
              "      <td>January 11, 2020</td>\n",
              "      <td>2006</td>\n",
              "      <td>PG</td>\n",
              "      <td>88 min</td>\n",
              "      <td>Children &amp; Family Movies, Comedies</td>\n",
              "      <td>Dragged from civilian life, a former superhero...</td>\n",
              "      <td>5</td>\n",
              "    </tr>\n",
              "    <tr>\n",
              "      <th>8806</th>\n",
              "      <td>8806</td>\n",
              "      <td>s8807</td>\n",
              "      <td>Movie</td>\n",
              "      <td>Zubaan</td>\n",
              "      <td>Mozez Singh</td>\n",
              "      <td>Vicky Kaushal, Sarah-Jane Dias, Raaghav Chanan...</td>\n",
              "      <td>India</td>\n",
              "      <td>March 2, 2019</td>\n",
              "      <td>2015</td>\n",
              "      <td>TV-14</td>\n",
              "      <td>111 min</td>\n",
              "      <td>Dramas, International Movies, Music &amp; Musicals</td>\n",
              "      <td>A scrappy but poor boy worms his way into a ty...</td>\n",
              "      <td>0</td>\n",
              "    </tr>\n",
              "  </tbody>\n",
              "</table>\n",
              "</div>\n",
              "      <button class=\"colab-df-convert\" onclick=\"convertToInteractive('df-78b79ac1-c3e7-4d29-b5fd-e084057bb361')\"\n",
              "              title=\"Convert this dataframe to an interactive table.\"\n",
              "              style=\"display:none;\">\n",
              "        \n",
              "  <svg xmlns=\"http://www.w3.org/2000/svg\" height=\"24px\"viewBox=\"0 0 24 24\"\n",
              "       width=\"24px\">\n",
              "    <path d=\"M0 0h24v24H0V0z\" fill=\"none\"/>\n",
              "    <path d=\"M18.56 5.44l.94 2.06.94-2.06 2.06-.94-2.06-.94-.94-2.06-.94 2.06-2.06.94zm-11 1L8.5 8.5l.94-2.06 2.06-.94-2.06-.94L8.5 2.5l-.94 2.06-2.06.94zm10 10l.94 2.06.94-2.06 2.06-.94-2.06-.94-.94-2.06-.94 2.06-2.06.94z\"/><path d=\"M17.41 7.96l-1.37-1.37c-.4-.4-.92-.59-1.43-.59-.52 0-1.04.2-1.43.59L10.3 9.45l-7.72 7.72c-.78.78-.78 2.05 0 2.83L4 21.41c.39.39.9.59 1.41.59.51 0 1.02-.2 1.41-.59l7.78-7.78 2.81-2.81c.8-.78.8-2.07 0-2.86zM5.41 20L4 18.59l7.72-7.72 1.47 1.35L5.41 20z\"/>\n",
              "  </svg>\n",
              "      </button>\n",
              "      \n",
              "  <style>\n",
              "    .colab-df-container {\n",
              "      display:flex;\n",
              "      flex-wrap:wrap;\n",
              "      gap: 12px;\n",
              "    }\n",
              "\n",
              "    .colab-df-convert {\n",
              "      background-color: #E8F0FE;\n",
              "      border: none;\n",
              "      border-radius: 50%;\n",
              "      cursor: pointer;\n",
              "      display: none;\n",
              "      fill: #1967D2;\n",
              "      height: 32px;\n",
              "      padding: 0 0 0 0;\n",
              "      width: 32px;\n",
              "    }\n",
              "\n",
              "    .colab-df-convert:hover {\n",
              "      background-color: #E2EBFA;\n",
              "      box-shadow: 0px 1px 2px rgba(60, 64, 67, 0.3), 0px 1px 3px 1px rgba(60, 64, 67, 0.15);\n",
              "      fill: #174EA6;\n",
              "    }\n",
              "\n",
              "    [theme=dark] .colab-df-convert {\n",
              "      background-color: #3B4455;\n",
              "      fill: #D2E3FC;\n",
              "    }\n",
              "\n",
              "    [theme=dark] .colab-df-convert:hover {\n",
              "      background-color: #434B5C;\n",
              "      box-shadow: 0px 1px 3px 1px rgba(0, 0, 0, 0.15);\n",
              "      filter: drop-shadow(0px 1px 2px rgba(0, 0, 0, 0.3));\n",
              "      fill: #FFFFFF;\n",
              "    }\n",
              "  </style>\n",
              "\n",
              "      <script>\n",
              "        const buttonEl =\n",
              "          document.querySelector('#df-78b79ac1-c3e7-4d29-b5fd-e084057bb361 button.colab-df-convert');\n",
              "        buttonEl.style.display =\n",
              "          google.colab.kernel.accessAllowed ? 'block' : 'none';\n",
              "\n",
              "        async function convertToInteractive(key) {\n",
              "          const element = document.querySelector('#df-78b79ac1-c3e7-4d29-b5fd-e084057bb361');\n",
              "          const dataTable =\n",
              "            await google.colab.kernel.invokeFunction('convertToInteractive',\n",
              "                                                     [key], {});\n",
              "          if (!dataTable) return;\n",
              "\n",
              "          const docLinkHtml = 'Like what you see? Visit the ' +\n",
              "            '<a target=\"_blank\" href=https://colab.research.google.com/notebooks/data_table.ipynb>data table notebook</a>'\n",
              "            + ' to learn more about interactive tables.';\n",
              "          element.innerHTML = '';\n",
              "          dataTable['output_type'] = 'display_data';\n",
              "          await google.colab.output.renderOutput(dataTable, element);\n",
              "          const docLink = document.createElement('div');\n",
              "          docLink.innerHTML = docLinkHtml;\n",
              "          element.appendChild(docLink);\n",
              "        }\n",
              "      </script>\n",
              "    </div>\n",
              "  </div>\n",
              "  "
            ]
          },
          "metadata": {},
          "execution_count": 2
        }
      ],
      "source": [
        "df = pd.read_csv(\"netflix_titles_labled.csv\")\n",
        "print(df.shape)\n",
        "df.tail()"
      ]
    },
    {
      "cell_type": "code",
      "execution_count": 3,
      "metadata": {
        "colab": {
          "base_uri": "https://localhost:8080/",
          "height": 206
        },
        "id": "URdVVr2N9ejF",
        "outputId": "114b2e85-dec3-4907-edd8-3aa4bf7a5889"
      },
      "outputs": [
        {
          "output_type": "execute_result",
          "data": {
            "text/plain": [
              "  show_id                  title  \\\n",
              "0      s1   Dick Johnson Is Dead   \n",
              "1      s2          Blood & Water   \n",
              "2      s3              Ganglands   \n",
              "3      s4  Jailbirds New Orleans   \n",
              "4      s5           Kota Factory   \n",
              "\n",
              "                                         description  cluster  \n",
              "0  As her father nears the end of his life, filmm...        1  \n",
              "1  After crossing paths at a party, a Cape Town t...        1  \n",
              "2  To protect his family from a powerful drug lor...        0  \n",
              "3  Feuds, flirtations and toilet talk go down amo...        4  \n",
              "4  In a city of coaching centers known to train I...        0  "
            ],
            "text/html": [
              "\n",
              "  <div id=\"df-fc460c11-d138-4b2b-820b-a6a8d0c3ee15\">\n",
              "    <div class=\"colab-df-container\">\n",
              "      <div>\n",
              "<style scoped>\n",
              "    .dataframe tbody tr th:only-of-type {\n",
              "        vertical-align: middle;\n",
              "    }\n",
              "\n",
              "    .dataframe tbody tr th {\n",
              "        vertical-align: top;\n",
              "    }\n",
              "\n",
              "    .dataframe thead th {\n",
              "        text-align: right;\n",
              "    }\n",
              "</style>\n",
              "<table border=\"1\" class=\"dataframe\">\n",
              "  <thead>\n",
              "    <tr style=\"text-align: right;\">\n",
              "      <th></th>\n",
              "      <th>show_id</th>\n",
              "      <th>title</th>\n",
              "      <th>description</th>\n",
              "      <th>cluster</th>\n",
              "    </tr>\n",
              "  </thead>\n",
              "  <tbody>\n",
              "    <tr>\n",
              "      <th>0</th>\n",
              "      <td>s1</td>\n",
              "      <td>Dick Johnson Is Dead</td>\n",
              "      <td>As her father nears the end of his life, filmm...</td>\n",
              "      <td>1</td>\n",
              "    </tr>\n",
              "    <tr>\n",
              "      <th>1</th>\n",
              "      <td>s2</td>\n",
              "      <td>Blood &amp; Water</td>\n",
              "      <td>After crossing paths at a party, a Cape Town t...</td>\n",
              "      <td>1</td>\n",
              "    </tr>\n",
              "    <tr>\n",
              "      <th>2</th>\n",
              "      <td>s3</td>\n",
              "      <td>Ganglands</td>\n",
              "      <td>To protect his family from a powerful drug lor...</td>\n",
              "      <td>0</td>\n",
              "    </tr>\n",
              "    <tr>\n",
              "      <th>3</th>\n",
              "      <td>s4</td>\n",
              "      <td>Jailbirds New Orleans</td>\n",
              "      <td>Feuds, flirtations and toilet talk go down amo...</td>\n",
              "      <td>4</td>\n",
              "    </tr>\n",
              "    <tr>\n",
              "      <th>4</th>\n",
              "      <td>s5</td>\n",
              "      <td>Kota Factory</td>\n",
              "      <td>In a city of coaching centers known to train I...</td>\n",
              "      <td>0</td>\n",
              "    </tr>\n",
              "  </tbody>\n",
              "</table>\n",
              "</div>\n",
              "      <button class=\"colab-df-convert\" onclick=\"convertToInteractive('df-fc460c11-d138-4b2b-820b-a6a8d0c3ee15')\"\n",
              "              title=\"Convert this dataframe to an interactive table.\"\n",
              "              style=\"display:none;\">\n",
              "        \n",
              "  <svg xmlns=\"http://www.w3.org/2000/svg\" height=\"24px\"viewBox=\"0 0 24 24\"\n",
              "       width=\"24px\">\n",
              "    <path d=\"M0 0h24v24H0V0z\" fill=\"none\"/>\n",
              "    <path d=\"M18.56 5.44l.94 2.06.94-2.06 2.06-.94-2.06-.94-.94-2.06-.94 2.06-2.06.94zm-11 1L8.5 8.5l.94-2.06 2.06-.94-2.06-.94L8.5 2.5l-.94 2.06-2.06.94zm10 10l.94 2.06.94-2.06 2.06-.94-2.06-.94-.94-2.06-.94 2.06-2.06.94z\"/><path d=\"M17.41 7.96l-1.37-1.37c-.4-.4-.92-.59-1.43-.59-.52 0-1.04.2-1.43.59L10.3 9.45l-7.72 7.72c-.78.78-.78 2.05 0 2.83L4 21.41c.39.39.9.59 1.41.59.51 0 1.02-.2 1.41-.59l7.78-7.78 2.81-2.81c.8-.78.8-2.07 0-2.86zM5.41 20L4 18.59l7.72-7.72 1.47 1.35L5.41 20z\"/>\n",
              "  </svg>\n",
              "      </button>\n",
              "      \n",
              "  <style>\n",
              "    .colab-df-container {\n",
              "      display:flex;\n",
              "      flex-wrap:wrap;\n",
              "      gap: 12px;\n",
              "    }\n",
              "\n",
              "    .colab-df-convert {\n",
              "      background-color: #E8F0FE;\n",
              "      border: none;\n",
              "      border-radius: 50%;\n",
              "      cursor: pointer;\n",
              "      display: none;\n",
              "      fill: #1967D2;\n",
              "      height: 32px;\n",
              "      padding: 0 0 0 0;\n",
              "      width: 32px;\n",
              "    }\n",
              "\n",
              "    .colab-df-convert:hover {\n",
              "      background-color: #E2EBFA;\n",
              "      box-shadow: 0px 1px 2px rgba(60, 64, 67, 0.3), 0px 1px 3px 1px rgba(60, 64, 67, 0.15);\n",
              "      fill: #174EA6;\n",
              "    }\n",
              "\n",
              "    [theme=dark] .colab-df-convert {\n",
              "      background-color: #3B4455;\n",
              "      fill: #D2E3FC;\n",
              "    }\n",
              "\n",
              "    [theme=dark] .colab-df-convert:hover {\n",
              "      background-color: #434B5C;\n",
              "      box-shadow: 0px 1px 3px 1px rgba(0, 0, 0, 0.15);\n",
              "      filter: drop-shadow(0px 1px 2px rgba(0, 0, 0, 0.3));\n",
              "      fill: #FFFFFF;\n",
              "    }\n",
              "  </style>\n",
              "\n",
              "      <script>\n",
              "        const buttonEl =\n",
              "          document.querySelector('#df-fc460c11-d138-4b2b-820b-a6a8d0c3ee15 button.colab-df-convert');\n",
              "        buttonEl.style.display =\n",
              "          google.colab.kernel.accessAllowed ? 'block' : 'none';\n",
              "\n",
              "        async function convertToInteractive(key) {\n",
              "          const element = document.querySelector('#df-fc460c11-d138-4b2b-820b-a6a8d0c3ee15');\n",
              "          const dataTable =\n",
              "            await google.colab.kernel.invokeFunction('convertToInteractive',\n",
              "                                                     [key], {});\n",
              "          if (!dataTable) return;\n",
              "\n",
              "          const docLinkHtml = 'Like what you see? Visit the ' +\n",
              "            '<a target=\"_blank\" href=https://colab.research.google.com/notebooks/data_table.ipynb>data table notebook</a>'\n",
              "            + ' to learn more about interactive tables.';\n",
              "          element.innerHTML = '';\n",
              "          dataTable['output_type'] = 'display_data';\n",
              "          await google.colab.output.renderOutput(dataTable, element);\n",
              "          const docLink = document.createElement('div');\n",
              "          docLink.innerHTML = docLinkHtml;\n",
              "          element.appendChild(docLink);\n",
              "        }\n",
              "      </script>\n",
              "    </div>\n",
              "  </div>\n",
              "  "
            ]
          },
          "metadata": {},
          "execution_count": 3
        }
      ],
      "source": [
        "df_final = df[['show_id','title','description','cluster']]\n",
        "df_final.head()\n"
      ]
    },
    {
      "cell_type": "code",
      "execution_count": 4,
      "metadata": {
        "colab": {
          "base_uri": "https://localhost:8080/"
        },
        "id": "jqB3xPYJ97jE",
        "outputId": "dae0fe0c-9bca-4597-883c-dbc96012f1b9"
      },
      "outputs": [
        {
          "output_type": "execute_result",
          "data": {
            "text/plain": [
              "0    3657\n",
              "1    3303\n",
              "2     733\n",
              "5     398\n",
              "4     396\n",
              "3     320\n",
              "Name: cluster, dtype: int64"
            ]
          },
          "metadata": {},
          "execution_count": 4
        }
      ],
      "source": [
        "df_final['cluster'].value_counts()"
      ]
    },
    {
      "cell_type": "markdown",
      "source": [
        "### **Preprocessing Text Data**"
      ],
      "metadata": {
        "id": "Dx5_suXAu24p"
      }
    },
    {
      "cell_type": "code",
      "execution_count": 5,
      "metadata": {
        "colab": {
          "base_uri": "https://localhost:8080/"
        },
        "id": "O0WWG-wG-dHg",
        "outputId": "415cb49f-522a-41f1-c8ed-41cbc8e4dd1f"
      },
      "outputs": [
        {
          "output_type": "stream",
          "name": "stderr",
          "text": [
            "/usr/local/lib/python3.7/dist-packages/ipykernel_launcher.py:1: SettingWithCopyWarning:\n",
            "\n",
            "\n",
            "A value is trying to be set on a copy of a slice from a DataFrame.\n",
            "Try using .loc[row_indexer,col_indexer] = value instead\n",
            "\n",
            "See the caveats in the documentation: https://pandas.pydata.org/pandas-docs/stable/user_guide/indexing.html#returning-a-view-versus-a-copy\n",
            "\n",
            "/usr/local/lib/python3.7/dist-packages/ipykernel_launcher.py:2: SettingWithCopyWarning:\n",
            "\n",
            "\n",
            "A value is trying to be set on a copy of a slice from a DataFrame.\n",
            "Try using .loc[row_indexer,col_indexer] = value instead\n",
            "\n",
            "See the caveats in the documentation: https://pandas.pydata.org/pandas-docs/stable/user_guide/indexing.html#returning-a-view-versus-a-copy\n",
            "\n",
            "/usr/local/lib/python3.7/dist-packages/ipykernel_launcher.py:3: FutureWarning:\n",
            "\n",
            "The default value of regex will change from True to False in a future version.\n",
            "\n",
            "/usr/local/lib/python3.7/dist-packages/ipykernel_launcher.py:3: SettingWithCopyWarning:\n",
            "\n",
            "\n",
            "A value is trying to be set on a copy of a slice from a DataFrame.\n",
            "Try using .loc[row_indexer,col_indexer] = value instead\n",
            "\n",
            "See the caveats in the documentation: https://pandas.pydata.org/pandas-docs/stable/user_guide/indexing.html#returning-a-view-versus-a-copy\n",
            "\n",
            "/usr/local/lib/python3.7/dist-packages/ipykernel_launcher.py:4: SettingWithCopyWarning:\n",
            "\n",
            "\n",
            "A value is trying to be set on a copy of a slice from a DataFrame.\n",
            "Try using .loc[row_indexer,col_indexer] = value instead\n",
            "\n",
            "See the caveats in the documentation: https://pandas.pydata.org/pandas-docs/stable/user_guide/indexing.html#returning-a-view-versus-a-copy\n",
            "\n"
          ]
        }
      ],
      "source": [
        "df_final['description'] = df_final['description'].str.strip()\n",
        "df_final['description'] = df_final['description'].str.lower()\n",
        "df_final['description'] = df_final['description'].str.replace('[^a-zA-Z]', ' ',)\n",
        "df_final['description'] = df_final['description'].apply(lambda x: ' '.join([lemmatizer.lemmatize(word) for word in x.split() if word not in (STOPWORDS)]))"
      ]
    },
    {
      "cell_type": "markdown",
      "metadata": {
        "id": "ekndy1vBFcsx"
      },
      "source": [
        "### Balancing classes"
      ]
    },
    {
      "cell_type": "code",
      "execution_count": 6,
      "metadata": {
        "colab": {
          "base_uri": "https://localhost:8080/",
          "height": 224
        },
        "id": "7XWcpogwFbj3",
        "outputId": "328127c8-54d2-4f9c-ed86-63553d048105"
      },
      "outputs": [
        {
          "output_type": "stream",
          "name": "stdout",
          "text": [
            "(1920, 4)\n"
          ]
        },
        {
          "output_type": "execute_result",
          "data": {
            "text/plain": [
              "     show_id                                 title  \\\n",
              "2459   s2460                           Space Force   \n",
              "3078   s3079  Albert Pinto Ko Gussa Kyun Aata Hai?   \n",
              "1631   s1632                            Rust Creek   \n",
              "4785   s4786            Sommore: Chandelier Status   \n",
              "1626   s1627                 The Happytime Murders   \n",
              "\n",
              "                                            description  cluster  \n",
              "2459  four star general begrudgingly team eccentric ...        1  \n",
              "3078  police investigate disappearance young man hea...        1  \n",
              "1631  wrong turn wood becomes fight life career seek...        1  \n",
              "4785  luminous funnywoman sommore wow miami unique t...        1  \n",
              "1626  la puppet human coexist luck detective team ex...        1  "
            ],
            "text/html": [
              "\n",
              "  <div id=\"df-a35a6a7f-5422-44ef-98f7-d987cd81077a\">\n",
              "    <div class=\"colab-df-container\">\n",
              "      <div>\n",
              "<style scoped>\n",
              "    .dataframe tbody tr th:only-of-type {\n",
              "        vertical-align: middle;\n",
              "    }\n",
              "\n",
              "    .dataframe tbody tr th {\n",
              "        vertical-align: top;\n",
              "    }\n",
              "\n",
              "    .dataframe thead th {\n",
              "        text-align: right;\n",
              "    }\n",
              "</style>\n",
              "<table border=\"1\" class=\"dataframe\">\n",
              "  <thead>\n",
              "    <tr style=\"text-align: right;\">\n",
              "      <th></th>\n",
              "      <th>show_id</th>\n",
              "      <th>title</th>\n",
              "      <th>description</th>\n",
              "      <th>cluster</th>\n",
              "    </tr>\n",
              "  </thead>\n",
              "  <tbody>\n",
              "    <tr>\n",
              "      <th>2459</th>\n",
              "      <td>s2460</td>\n",
              "      <td>Space Force</td>\n",
              "      <td>four star general begrudgingly team eccentric ...</td>\n",
              "      <td>1</td>\n",
              "    </tr>\n",
              "    <tr>\n",
              "      <th>3078</th>\n",
              "      <td>s3079</td>\n",
              "      <td>Albert Pinto Ko Gussa Kyun Aata Hai?</td>\n",
              "      <td>police investigate disappearance young man hea...</td>\n",
              "      <td>1</td>\n",
              "    </tr>\n",
              "    <tr>\n",
              "      <th>1631</th>\n",
              "      <td>s1632</td>\n",
              "      <td>Rust Creek</td>\n",
              "      <td>wrong turn wood becomes fight life career seek...</td>\n",
              "      <td>1</td>\n",
              "    </tr>\n",
              "    <tr>\n",
              "      <th>4785</th>\n",
              "      <td>s4786</td>\n",
              "      <td>Sommore: Chandelier Status</td>\n",
              "      <td>luminous funnywoman sommore wow miami unique t...</td>\n",
              "      <td>1</td>\n",
              "    </tr>\n",
              "    <tr>\n",
              "      <th>1626</th>\n",
              "      <td>s1627</td>\n",
              "      <td>The Happytime Murders</td>\n",
              "      <td>la puppet human coexist luck detective team ex...</td>\n",
              "      <td>1</td>\n",
              "    </tr>\n",
              "  </tbody>\n",
              "</table>\n",
              "</div>\n",
              "      <button class=\"colab-df-convert\" onclick=\"convertToInteractive('df-a35a6a7f-5422-44ef-98f7-d987cd81077a')\"\n",
              "              title=\"Convert this dataframe to an interactive table.\"\n",
              "              style=\"display:none;\">\n",
              "        \n",
              "  <svg xmlns=\"http://www.w3.org/2000/svg\" height=\"24px\"viewBox=\"0 0 24 24\"\n",
              "       width=\"24px\">\n",
              "    <path d=\"M0 0h24v24H0V0z\" fill=\"none\"/>\n",
              "    <path d=\"M18.56 5.44l.94 2.06.94-2.06 2.06-.94-2.06-.94-.94-2.06-.94 2.06-2.06.94zm-11 1L8.5 8.5l.94-2.06 2.06-.94-2.06-.94L8.5 2.5l-.94 2.06-2.06.94zm10 10l.94 2.06.94-2.06 2.06-.94-2.06-.94-.94-2.06-.94 2.06-2.06.94z\"/><path d=\"M17.41 7.96l-1.37-1.37c-.4-.4-.92-.59-1.43-.59-.52 0-1.04.2-1.43.59L10.3 9.45l-7.72 7.72c-.78.78-.78 2.05 0 2.83L4 21.41c.39.39.9.59 1.41.59.51 0 1.02-.2 1.41-.59l7.78-7.78 2.81-2.81c.8-.78.8-2.07 0-2.86zM5.41 20L4 18.59l7.72-7.72 1.47 1.35L5.41 20z\"/>\n",
              "  </svg>\n",
              "      </button>\n",
              "      \n",
              "  <style>\n",
              "    .colab-df-container {\n",
              "      display:flex;\n",
              "      flex-wrap:wrap;\n",
              "      gap: 12px;\n",
              "    }\n",
              "\n",
              "    .colab-df-convert {\n",
              "      background-color: #E8F0FE;\n",
              "      border: none;\n",
              "      border-radius: 50%;\n",
              "      cursor: pointer;\n",
              "      display: none;\n",
              "      fill: #1967D2;\n",
              "      height: 32px;\n",
              "      padding: 0 0 0 0;\n",
              "      width: 32px;\n",
              "    }\n",
              "\n",
              "    .colab-df-convert:hover {\n",
              "      background-color: #E2EBFA;\n",
              "      box-shadow: 0px 1px 2px rgba(60, 64, 67, 0.3), 0px 1px 3px 1px rgba(60, 64, 67, 0.15);\n",
              "      fill: #174EA6;\n",
              "    }\n",
              "\n",
              "    [theme=dark] .colab-df-convert {\n",
              "      background-color: #3B4455;\n",
              "      fill: #D2E3FC;\n",
              "    }\n",
              "\n",
              "    [theme=dark] .colab-df-convert:hover {\n",
              "      background-color: #434B5C;\n",
              "      box-shadow: 0px 1px 3px 1px rgba(0, 0, 0, 0.15);\n",
              "      filter: drop-shadow(0px 1px 2px rgba(0, 0, 0, 0.3));\n",
              "      fill: #FFFFFF;\n",
              "    }\n",
              "  </style>\n",
              "\n",
              "      <script>\n",
              "        const buttonEl =\n",
              "          document.querySelector('#df-a35a6a7f-5422-44ef-98f7-d987cd81077a button.colab-df-convert');\n",
              "        buttonEl.style.display =\n",
              "          google.colab.kernel.accessAllowed ? 'block' : 'none';\n",
              "\n",
              "        async function convertToInteractive(key) {\n",
              "          const element = document.querySelector('#df-a35a6a7f-5422-44ef-98f7-d987cd81077a');\n",
              "          const dataTable =\n",
              "            await google.colab.kernel.invokeFunction('convertToInteractive',\n",
              "                                                     [key], {});\n",
              "          if (!dataTable) return;\n",
              "\n",
              "          const docLinkHtml = 'Like what you see? Visit the ' +\n",
              "            '<a target=\"_blank\" href=https://colab.research.google.com/notebooks/data_table.ipynb>data table notebook</a>'\n",
              "            + ' to learn more about interactive tables.';\n",
              "          element.innerHTML = '';\n",
              "          dataTable['output_type'] = 'display_data';\n",
              "          await google.colab.output.renderOutput(dataTable, element);\n",
              "          const docLink = document.createElement('div');\n",
              "          docLink.innerHTML = docLinkHtml;\n",
              "          element.appendChild(docLink);\n",
              "        }\n",
              "      </script>\n",
              "    </div>\n",
              "  </div>\n",
              "  "
            ]
          },
          "metadata": {},
          "execution_count": 6
        }
      ],
      "source": [
        "classes = list(df_final['cluster'].unique())\n",
        "min_class_val = min(df_final['cluster'].value_counts())\n",
        "df_balanced = pd.DataFrame()\n",
        "for c in classes:\n",
        "    class_df = df_final[df_final['cluster'] == c]\n",
        "    class_df = class_df.sample(min_class_val)\n",
        "    df_balanced = pd.concat([df_balanced,class_df])\n",
        "\n",
        "print(df_balanced.shape)\n",
        "df_balanced.head()"
      ]
    },
    {
      "cell_type": "code",
      "execution_count": 7,
      "metadata": {
        "colab": {
          "base_uri": "https://localhost:8080/"
        },
        "id": "jeLRIZy7GyLn",
        "outputId": "a8d002c8-ef13-47d0-c73f-5c5b286c8f64"
      },
      "outputs": [
        {
          "output_type": "execute_result",
          "data": {
            "text/plain": [
              "1    320\n",
              "0    320\n",
              "4    320\n",
              "5    320\n",
              "2    320\n",
              "3    320\n",
              "Name: cluster, dtype: int64"
            ]
          },
          "metadata": {},
          "execution_count": 7
        }
      ],
      "source": [
        "df_balanced['cluster'].value_counts()"
      ]
    },
    {
      "cell_type": "markdown",
      "source": [
        "### Preparing dataset for modelling"
      ],
      "metadata": {
        "id": "nN9wINMNvCBI"
      }
    },
    {
      "cell_type": "markdown",
      "source": [
        "Word Embedding"
      ],
      "metadata": {
        "id": "2ivtOrXJvJvJ"
      }
    },
    {
      "cell_type": "code",
      "execution_count": 8,
      "metadata": {
        "colab": {
          "base_uri": "https://localhost:8080/"
        },
        "id": "gghIaHn7_Wql",
        "outputId": "1cc80869-477c-4582-cd05-48b406e65ed1"
      },
      "outputs": [
        {
          "output_type": "stream",
          "name": "stdout",
          "text": [
            "Found 7574 unique tokens.\n"
          ]
        }
      ],
      "source": [
        "# The maximum number of words to be used. (most frequent)\n",
        "max_words = 10000\n",
        "# Max number of words in each complaint.\n",
        "max_seq = max(df_balanced['description'].apply(lambda x:len(x)))\n",
        "# This is fixed.\n",
        "embedding_dim = 300\n",
        "\n",
        "tokenizer = Tokenizer(num_words=max_words)\n",
        "tokenizer.fit_on_texts(df_balanced['description'].values)\n",
        "word_index = tokenizer.word_index\n",
        "print('Found %s unique tokens.' % len(word_index))"
      ]
    },
    {
      "cell_type": "code",
      "execution_count": 9,
      "metadata": {
        "colab": {
          "base_uri": "https://localhost:8080/"
        },
        "id": "wSKIyVRvAGBD",
        "outputId": "641e19bd-7c59-4883-d0ef-88eb13c2c60b"
      },
      "outputs": [
        {
          "output_type": "stream",
          "name": "stdout",
          "text": [
            "Shape of data tensor: (1920, 176)\n"
          ]
        }
      ],
      "source": [
        "X = tokenizer.texts_to_sequences(df_balanced['description'].values)\n",
        "X = pad_sequences(X, maxlen=max_seq)\n",
        "print('Shape of data tensor:', X.shape)"
      ]
    },
    {
      "cell_type": "code",
      "execution_count": 10,
      "metadata": {
        "colab": {
          "base_uri": "https://localhost:8080/"
        },
        "id": "BOU_dL9pAObD",
        "outputId": "088e0d1e-ecda-48b6-ce90-9aad851b35d3"
      },
      "outputs": [
        {
          "output_type": "stream",
          "name": "stdout",
          "text": [
            "Shape of label tensor: (1920, 6)\n"
          ]
        }
      ],
      "source": [
        "Y = pd.get_dummies(df_balanced['cluster']).values\n",
        "print('Shape of label tensor:', Y.shape)"
      ]
    },
    {
      "cell_type": "markdown",
      "source": [
        "Train/Test Split"
      ],
      "metadata": {
        "id": "VD62_TdLvNq9"
      }
    },
    {
      "cell_type": "code",
      "execution_count": 11,
      "metadata": {
        "colab": {
          "base_uri": "https://localhost:8080/"
        },
        "id": "Ph-J4vROAU30",
        "outputId": "21725316-6aba-437c-83c3-8091e854ba24"
      },
      "outputs": [
        {
          "output_type": "stream",
          "name": "stdout",
          "text": [
            "(1344, 176) (1344, 6)\n",
            "(576, 176) (576, 6)\n"
          ]
        }
      ],
      "source": [
        "X_train, X_test, Y_train, Y_test = train_test_split(X,Y, test_size = 0.3, random_state = 100)\n",
        "print(X_train.shape,Y_train.shape)\n",
        "print(X_test.shape,Y_test.shape)"
      ]
    },
    {
      "cell_type": "markdown",
      "source": [
        "### **Building LSTM Model**"
      ],
      "metadata": {
        "id": "7k6H7X52vRV2"
      }
    },
    {
      "cell_type": "code",
      "execution_count": 12,
      "metadata": {
        "colab": {
          "base_uri": "https://localhost:8080/"
        },
        "id": "Dzu3mpNYAdmr",
        "outputId": "d7766e23-92dd-4f03-af87-ca8e8bb0b680"
      },
      "outputs": [
        {
          "output_type": "stream",
          "name": "stdout",
          "text": [
            "Model: \"sequential\"\n",
            "_________________________________________________________________\n",
            " Layer (type)                Output Shape              Param #   \n",
            "=================================================================\n",
            " embedding (Embedding)       (None, 176, 300)          3000000   \n",
            "                                                                 \n",
            " dropout (Dropout)           (None, 176, 300)          0         \n",
            "                                                                 \n",
            " lstm (LSTM)                 (None, 176, 300)          721200    \n",
            "                                                                 \n",
            " flatten (Flatten)           (None, 52800)             0         \n",
            "                                                                 \n",
            " dropout_1 (Dropout)         (None, 52800)             0         \n",
            "                                                                 \n",
            " dense (Dense)               (None, 32)                1689632   \n",
            "                                                                 \n",
            " dropout_2 (Dropout)         (None, 32)                0         \n",
            "                                                                 \n",
            " dense_1 (Dense)             (None, 6)                 198       \n",
            "                                                                 \n",
            "=================================================================\n",
            "Total params: 5,411,030\n",
            "Trainable params: 5,411,030\n",
            "Non-trainable params: 0\n",
            "_________________________________________________________________\n",
            "None\n"
          ]
        }
      ],
      "source": [
        "model = Sequential()\n",
        "model.add(Embedding(max_words, embedding_dim, input_length=X.shape[1]))\n",
        "model.add(Dropout(0.5))\n",
        "model.add(LSTM(embedding_dim, dropout=0.5, recurrent_dropout=0.5,return_sequences=True))\n",
        "model.add(Flatten())\n",
        "model.add(Dropout(0.5))\n",
        "model.add(Dense(32, activation='relu'))\n",
        "model.add(Dropout(0.5))\n",
        "model.add(Dense(6, activation='softmax'))\n",
        "model.compile(loss='categorical_crossentropy', optimizer='adam', metrics=['Precision'])\n",
        "print(model.summary())"
      ]
    },
    {
      "cell_type": "markdown",
      "source": [
        "### **Training LSTM Model**"
      ],
      "metadata": {
        "id": "9dFoRFjevVI0"
      }
    },
    {
      "cell_type": "code",
      "execution_count": 13,
      "metadata": {
        "colab": {
          "base_uri": "https://localhost:8080/"
        },
        "id": "D7Z_14rDAnUS",
        "outputId": "5e5e8fa1-dc2a-453d-a3ba-441a307cc636"
      },
      "outputs": [
        {
          "output_type": "stream",
          "name": "stdout",
          "text": [
            "Epoch 1/10\n",
            "19/19 [==============================] - 76s 4s/step - loss: 1.8295 - precision: 0.0556 - val_loss: 1.7966 - val_precision: 0.0000e+00\n",
            "Epoch 2/10\n",
            "19/19 [==============================] - 64s 3s/step - loss: 1.7926 - precision: 0.0000e+00 - val_loss: 1.7901 - val_precision: 0.0000e+00\n",
            "Epoch 3/10\n",
            "19/19 [==============================] - 61s 3s/step - loss: 1.7917 - precision: 0.0000e+00 - val_loss: 1.7922 - val_precision: 0.0000e+00\n",
            "Epoch 4/10\n",
            "19/19 [==============================] - 60s 3s/step - loss: 1.7917 - precision: 0.0000e+00 - val_loss: 1.7924 - val_precision: 0.0000e+00\n",
            "Epoch 5/10\n",
            "19/19 [==============================] - 60s 3s/step - loss: 1.7916 - precision: 0.0000e+00 - val_loss: 1.7927 - val_precision: 0.0000e+00\n"
          ]
        }
      ],
      "source": [
        "epochs = 10\n",
        "batch_size = 64\n",
        "\n",
        "history = model.fit(X_train, Y_train, epochs=epochs, batch_size = batch_size,\n",
        "                    validation_split=0.1,\n",
        "                    callbacks=[EarlyStopping(monitor='val_loss', patience=3, min_delta=0.001)])\n",
        "\n"
      ]
    },
    {
      "cell_type": "markdown",
      "source": [
        "### **Validating Results**"
      ],
      "metadata": {
        "id": "Xludy-yzvaYw"
      }
    },
    {
      "cell_type": "code",
      "source": [
        "precision = model.evaluate(X_test,Y_test)\n",
        "print('Test set\\n  Loss: {:0.3f}\\n  Precision: {:0.3f}'.format(precision[0],precision[1]))"
      ],
      "metadata": {
        "colab": {
          "base_uri": "https://localhost:8080/"
        },
        "id": "0wAT7Yhqvc-X",
        "outputId": "1ec6ed5f-6a09-43cb-90f3-0903395982a6"
      },
      "execution_count": 14,
      "outputs": [
        {
          "output_type": "stream",
          "name": "stdout",
          "text": [
            "18/18 [==============================] - 7s 361ms/step - loss: 1.7922 - precision: 0.0000e+00\n",
            "Test set\n",
            "  Loss: 1.792\n",
            "  Precision: 0.000\n"
          ]
        }
      ]
    },
    {
      "cell_type": "markdown",
      "source": [
        "### **Hyperparameter Tuning of LSTM Model**"
      ],
      "metadata": {
        "id": "evL2ptm7v4Fw"
      }
    },
    {
      "cell_type": "code",
      "source": [
        "\n",
        "\n",
        "def build_model(hp):\n",
        "    model = Sequential()\n",
        "    model.add(Embedding(max_words, embedding_dim, input_length=X.shape[1]))\n",
        "    model.add(Dropout(hp.Float('Dropout_rate',min_value=0,max_value=0.5,step=0.1)))\n",
        "    model.add(LSTM(hp.Int('layer_2_neurons',min_value=32,max_value=128,step=32)))\n",
        "    model.add(Flatten())\n",
        "    model.add(Dropout(hp.Float('Dropout_rate',min_value=0,max_value=0.5,step=0.1)))\n",
        "    model.add(Dense(hp.Int('hidden_size', 30, 100, step=10, default=50),activation= hp.Choice('dense_activation',values=['relu', 'sigmoid'],default='relu')))\n",
        "    model.add(Dropout(hp.Float('Dropout_rate',min_value=0,max_value=0.5,step=0.1)))\n",
        "    model.add(Dense(6, activation='softmax'))\n",
        "    model.compile(optimizer=tf.keras.optimizers.Adam(\n",
        "      hp.Float('learning_rate', 1e-4, 1e-2, sampling='log')),loss='categorical_crossentropy',metrics = ['Precision'])\n",
        "    return model\n",
        "\n",
        "tuner= RandomSearch(\n",
        "        build_model,\n",
        "        keras_tuner.Objective('val_precision','max'),\n",
        "        max_trials=10,\n",
        "        executions_per_trial=2,\n",
        "        overwrite=True\n",
        "        )\n",
        "\n",
        "tuner.search(\n",
        "        x=X_train,\n",
        "        y=Y_train,\n",
        "        epochs=10,\n",
        "        batch_size=128,\n",
        "        validation_data=(X_test,Y_test),\n",
        ")"
      ],
      "metadata": {
        "colab": {
          "base_uri": "https://localhost:8080/"
        },
        "id": "bMoOk_fiv_Mt",
        "outputId": "83eab4dc-dabd-4fdc-cfdc-2bd61eaf3b87"
      },
      "execution_count": 16,
      "outputs": [
        {
          "output_type": "stream",
          "name": "stdout",
          "text": [
            "Trial 10 Complete [00h 04m 10s]\n",
            "val_precision: 0.0\n",
            "\n",
            "Best val_precision So Far: 0.9904761910438538\n",
            "Total elapsed time: 00h 34m 29s\n",
            "INFO:tensorflow:Oracle triggered exit\n"
          ]
        }
      ]
    },
    {
      "cell_type": "code",
      "source": [
        "best_model = tuner.get_best_models(num_models=1)[0]"
      ],
      "metadata": {
        "id": "qCUGqOhR3SgQ"
      },
      "execution_count": 17,
      "outputs": []
    },
    {
      "cell_type": "code",
      "source": [
        "best_model.evaluate(X_test,Y_test)"
      ],
      "metadata": {
        "colab": {
          "base_uri": "https://localhost:8080/"
        },
        "id": "Bi-c7IpERLiU",
        "outputId": "d2948e38-feeb-409d-de6c-c18c8ab9b676"
      },
      "execution_count": 18,
      "outputs": [
        {
          "output_type": "stream",
          "name": "stdout",
          "text": [
            "18/18 [==============================] - 2s 41ms/step - loss: 1.5527 - precision: 1.0000\n"
          ]
        },
        {
          "output_type": "execute_result",
          "data": {
            "text/plain": [
              "[1.552685022354126, 1.0]"
            ]
          },
          "metadata": {},
          "execution_count": 18
        }
      ]
    },
    {
      "cell_type": "code",
      "source": [
        "Y_lables = [i for a in Y_test for i, e in enumerate(a) if e != 0]"
      ],
      "metadata": {
        "id": "3u6yOqkRUYe-"
      },
      "execution_count": 19,
      "outputs": []
    },
    {
      "cell_type": "code",
      "source": [
        "pred_lables = np.argmax(best_model.predict(X_test),axis = 1)"
      ],
      "metadata": {
        "id": "xXHQUJTtTbpP"
      },
      "execution_count": 20,
      "outputs": []
    },
    {
      "cell_type": "code",
      "source": [
        "preci"
      ],
      "metadata": {
        "id": "dFY9Qjj4hYy1"
      },
      "execution_count": null,
      "outputs": []
    },
    {
      "cell_type": "code",
      "source": [
        "from sklearn.metrics import classification_report\n",
        "from sklearn.metrics import precision_score\n",
        "print(precision_score(Y_lables,pred_lables,average='micro'))\n",
        "print(classification_report(Y_lables,pred_lables))"
      ],
      "metadata": {
        "colab": {
          "base_uri": "https://localhost:8080/"
        },
        "id": "oWGQXWMyUK1y",
        "outputId": "713954a3-fe84-44b0-9d21-c39b920438c7"
      },
      "execution_count": 23,
      "outputs": [
        {
          "output_type": "stream",
          "name": "stdout",
          "text": [
            "0.4583333333333333\n",
            "              precision    recall  f1-score   support\n",
            "\n",
            "           0       0.00      0.00      0.00       100\n",
            "           1       0.17      0.03      0.05       101\n",
            "           2       0.52      0.27      0.36        89\n",
            "           3       0.38      0.86      0.53        97\n",
            "           4       0.70      0.73      0.71       100\n",
            "           5       0.43      0.91      0.59        89\n",
            "\n",
            "    accuracy                           0.46       576\n",
            "   macro avg       0.37      0.47      0.37       576\n",
            "weighted avg       0.36      0.46      0.37       576\n",
            "\n"
          ]
        }
      ]
    }
  ],
  "metadata": {
    "colab": {
      "name": "Netflix_LSTM.ipynb",
      "provenance": []
    },
    "kernelspec": {
      "display_name": "Python 3",
      "name": "python3"
    },
    "language_info": {
      "name": "python"
    }
  },
  "nbformat": 4,
  "nbformat_minor": 0
}